{
  "cells": [
    {
      "cell_type": "markdown",
      "metadata": {
        "id": "view-in-github",
        "colab_type": "text"
      },
      "source": [
        "<a href=\"https://colab.research.google.com/github/MassGH2023/Deep-Learning-and-Neural-Network/blob/main/CategoricalCrossEntropy.ipynb\" target=\"_parent\"><img src=\"https://colab.research.google.com/assets/colab-badge.svg\" alt=\"Open In Colab\"/></a>"
      ]
    },
    {
      "cell_type": "markdown",
      "metadata": {
        "id": "519065a6-9c43-440a-a33b-eb9ab0990ffe"
      },
      "source": [
        "<center>\n",
        "    <img src=\"https://cf-courses-data.s3.us.cloud-object-storage.appdomain.cloud/assets/logos/SN_web_lightmode.png\" width=\"300\" alt=\"cognitiveclass.ai logo\">\n",
        "</center>\n"
      ]
    },
    {
      "cell_type": "markdown",
      "metadata": {
        "id": "2e4d5f7a-70d4-48b2-a279-1a03fcdd28b3"
      },
      "source": [
        "# **Categorical Cross-Entropy Loss**\n"
      ]
    },
    {
      "cell_type": "markdown",
      "metadata": {
        "id": "7ffadb3b-4776-4fd2-91f9-207b2a5a650f"
      },
      "source": [
        "Estimated time needed: **45** minutes\n"
      ]
    },
    {
      "cell_type": "markdown",
      "metadata": {
        "id": "973ee1e5-1e96-47fb-9614-9ba82da744c0"
      },
      "source": [
        "In this lab, we are going to use the MNIST hand-written digits dataset as a motivating example to understand categorical cross-entropy loss.\n"
      ]
    },
    {
      "cell_type": "markdown",
      "metadata": {
        "id": "e3d3b682-5bcd-4755-8414-e336d05dfe64"
      },
      "source": [
        "<h1> House Number Detection </h1></s>\n",
        "\n",
        "You have been tasked with building a model that can recognize house numbers from arbitrary street-view images. You are given a set of images of single-digit house numbers engraved into slates or wall surfaces. The images vary in size and color. In this lab, we are going to use the MNIST hand-written digits dataset as a motivating example to understand the __softmax function__, __one-hot encoding__, and __categorical cross-entropy loss__. The MNIST hand-written dataset has 10 classes, each representing a digit from 0-9. We will attempt to build a multi-class classification model that will identify which digit is present in the image.\n"
      ]
    },
    {
      "cell_type": "markdown",
      "metadata": {
        "id": "a53a99fc-57d2-487c-afee-253ddcd9851a"
      },
      "source": [
        "<img src=\"https://cf-courses-data.s3.us.cloud-object-storage.appdomain.cloud/IBMDeveloperSkillsNetwork-ML311-Coursera/labs/Module3/L1/house_number.jpg\" style=\"width: 30%\">\n",
        "\n",
        "<!-- Original Source: https://slate.com/human-interest/2020/06/a-quest-to-catalogue-every-single-house-number-in-one-suburban-zip-code.html -->\n"
      ]
    },
    {
      "cell_type": "markdown",
      "metadata": {
        "id": "a4a8e29e-7df1-4deb-81fa-2fe4cbe6f1e6"
      },
      "source": [
        "## **Table of Contents**\n",
        "\n",
        "<ol>\n",
        "    <li><a href=\"https://#Objectives\">Objectives</a></li>\n",
        "    <li><a href=\"https://#Datasets\">Datasets</a></li>\n",
        "    <li>\n",
        "        <a href=\"https://#Setup\">Setup</a>\n",
        "        <ol>\n",
        "            <li><a href=\"https://#Installing-Required-Libraries\">Installing Required Libraries</a></li>\n",
        "            <li><a href=\"https://#Importing-Required-Libraries\">Importing Required Libraries</a></li>\n",
        "            <li><a href=\"https://#Defining-Helper-Functions\">Defining Helper Functions</a></li>\n",
        "        </ol>\n",
        "    </li>\n",
        "    <li><a href=\"https://https://#Categorical Cross-Entropy\">Categorical Cross-Entropy</a>\n",
        "        <ol>\n",
        "            <li><a href=\"https://#Softmax Activation Function\">Softmax Activation Function</a></li>\n",
        "            <li><a href=\"https://#One-Hot Encoding\">One-Hot Encoding</a></li>\n",
        "            <li><a href=\"#Categorical Cross-Entropy\">Categorical Cross-Entropy</a></li>\n",
        "        </ol>\n",
        "    </li>\n",
        "    <li><a href=\"https://#Binary vs. Multi-Class Classification\">Binary vs. Multi-Class Classification</a>\n",
        "        <ol>\n",
        "            <li><a href=\"https://#Binary Classification\">Binary Classification</a></li>\n",
        "            <li><a href=\"https://#Multi-Class Classification\">Multi-Class Classification</a></li>\n",
        "        </ol>\n",
        "    </li>\n",
        "    <li>\n",
        "        <a href=\"https://#Example: MNIST Hand-Written Digits\">Example: MNIST Hand-Written Digits</a> </li>\n",
        "    <li>\n",
        "        <a href=\"https://#Example: Single-Digit House Number Recognition\"> Example: Single-Digit House Number Recognition</a> </li>\n",
        "    <li><a href=\"https://#Exercises\">Exercises</a>\n",
        "        <ol>\n",
        "            <li><a href=\"https://#Exercise 1 - Loading and plotting the images\">Exercise 1 - Loading and plotting the images</a></li>\n",
        "            <li><a href=\"https://#Exercise 2 - Preparing the data\">Exercise 2 - Preparing the data</a></li>\n",
        "            <li><a href=\"https://#Exercise 3 - One-hot encoding\">Exercise 3 - One-hot encoding</a></li>\n",
        "            <li><a href=\"https://#Exercise 4 - Build model architecture\">Exercise 4 - Build model architecture</a></li>\n",
        "            <li><a href=\"https://#(Optional) Exercise 5 - Sparse Categorical Cross-Entropy\">Sparse Categorical Cross-Entropy</a></li>\n",
        "        </ol>\n",
        "    </li>\n",
        "</ol>\n"
      ]
    },
    {
      "cell_type": "markdown",
      "metadata": {
        "id": "3326bc0d-de47-48b5-9ff8-4c780b5ebe5c"
      },
      "source": [
        "## Objectives\n",
        "\n",
        "After completing this lab you will be able to:\n",
        "\n",
        "*   **Understand** what categorical cross-entropy is, and how it works with the Softmax activation function.\n",
        "*   **Build** simple CNN models for binary and multi-class classification.\n"
      ]
    },
    {
      "cell_type": "markdown",
      "metadata": {
        "id": "414521ea-809d-49a1-9a61-f7c2de14e2c6"
      },
      "source": [
        "## Setup\n"
      ]
    },
    {
      "cell_type": "markdown",
      "metadata": {
        "id": "27957e8e-b244-40fc-ad36-bce070fe0dd4"
      },
      "source": [
        "For this lab, we will be using the following libraries:\n",
        "\n",
        "*   [`pandas`](https://pandas.pydata.org/?utm_medium=Exinfluencer&utm_source=Exinfluencer&utm_content=000026UJ&utm_term=10006555&utm_id=NA-SkillsNetwork-Channel-SkillsNetworkCoursesIBMML0187ENSkillsNetwork31430127-2021-01-01) for managing the data.\n",
        "*   [`numpy`](https://numpy.org/?utm_medium=Exinfluencer&utm_source=Exinfluencer&utm_content=000026UJ&utm_term=10006555&utm_id=NA-SkillsNetwork-Channel-SkillsNetworkCoursesIBMML0187ENSkillsNetwork31430127-2021-01-01) for mathematical operations.\n",
        "*   [`sklearn`](https://scikit-learn.org/stable/?utm_medium=Exinfluencer&utm_source=Exinfluencer&utm_content=000026UJ&utm_term=10006555&utm_id=NA-SkillsNetwork-Channel-SkillsNetworkCoursesIBMML0187ENSkillsNetwork31430127-2021-01-01) for machine learning and machine-learning-pipeline related functions.\n",
        "*   [`seaborn`](https://seaborn.pydata.org/?utm_medium=Exinfluencer&utm_source=Exinfluencer&utm_content=000026UJ&utm_term=10006555&utm_id=NA-SkillsNetwork-Channel-SkillsNetworkCoursesIBMML0187ENSkillsNetwork31430127-2021-01-01) for visualizing the data.\n",
        "*   [`matplotlib`](https://matplotlib.org/?utm_medium=Exinfluencer&utm_source=Exinfluencer&utm_content=000026UJ&utm_term=10006555&utm_id=NA-SkillsNetwork-Channel-SkillsNetworkCoursesIBMML0187ENSkillsNetwork31430127-2021-01-01) for additional plotting tools.\n",
        "*   [`keras`](https://keras.io/?utm_medium=Exinfluencer&utm_source=Exinfluencer&utm_content=000026UJ&utm_term=10006555&utm_id=NA-SkillsNetwork-Channel-SkillsNetworkCoursesIBMML0187ENSkillsNetwork31430127-2021-01-01) for loading datasets.\n"
      ]
    },
    {
      "cell_type": "markdown",
      "metadata": {
        "id": "3ed8ac05-4cf6-4f13-abe0-6a0c90c35cff"
      },
      "source": [
        "### Installing Required Libraries\n",
        "\n",
        "The following required libraries are pre-installed in the Skills Network Labs environment. However, if you run these notebook commands in a different Jupyter environment (like Watson Studio or Ananconda), you will need to install these libraries by removing the `#` sign before `!pip install mlxtend` in the following code cell.\n"
      ]
    },
    {
      "cell_type": "markdown",
      "metadata": {
        "id": "f13678ca-d571-4967-8bfb-0e72f3675ccf"
      },
      "source": [
        "The following required libraries are **not** pre-installed in the Skills Network Labs environment. **You will need to run the following cell** to install them. **Please RESTART KERNEL after installation,**.\n"
      ]
    },
    {
      "cell_type": "code",
      "metadata": {
        "id": "dab2fce5-8b59-4d9a-9769-8bed33309946"
      },
      "outputs": [],
      "source": [
        "%%capture\n",
        "\n",
        "!pip install mlxtend\n",
        "!pip install --upgrade tensorflow"
      ],
      "execution_count": 1
    },
    {
      "cell_type": "markdown",
      "metadata": {
        "id": "ba61c91d-ad3a-40d6-95fc-037c218aeb76"
      },
      "source": [
        "### Importing Required Libraries\n"
      ]
    },
    {
      "cell_type": "code",
      "metadata": {
        "colab": {
          "base_uri": "https://localhost:8080/"
        },
        "id": "18914ec9-f887-43a2-9e1e-d4b758c6d57f",
        "outputId": "4b374c88-8f43-4542-89d4-fb93c5383991"
      },
      "outputs": [
        {
          "output_type": "stream",
          "name": "stdout",
          "text": [
            "2.18.0\n"
          ]
        }
      ],
      "source": [
        "import cv2\n",
        "from urllib.request import urlopen\n",
        "from PIL import Image\n",
        "import IPython\n",
        "import numpy as np\n",
        "from matplotlib import pyplot as plt\n",
        "import pandas as pd, numpy as np\n",
        "from keras.datasets import mnist, fashion_mnist\n",
        "import random\n",
        "from sklearn.preprocessing import OneHotEncoder\n",
        "from tensorflow.keras.losses import CategoricalCrossentropy,SparseCategoricalCrossentropy,BinaryCrossentropy\n",
        "from sklearn.datasets import make_blobs\n",
        "from mlxtend.plotting import plot_decision_regions\n",
        "import tensorflow as tf\n",
        "print(tf.__version__)\n",
        "from sklearn import preprocessing\n",
        "from tensorflow.keras.utils import to_categorical\n",
        "from tensorflow.keras.models import Sequential\n",
        "from tensorflow.keras.layers import Dense"
      ],
      "execution_count": 2
    },
    {
      "cell_type": "markdown",
      "metadata": {
        "id": "7db0134d-ca81-4af1-a2a7-2fd47167a1ea"
      },
      "source": [
        "### Defining Helper Functions\n",
        "\n",
        "*Use this section to define any helper functions to help the notebook's code readability:*\n"
      ]
    },
    {
      "cell_type": "code",
      "metadata": {
        "id": "7ec08d59-8184-415f-8896-19a08b7af1e5"
      },
      "outputs": [],
      "source": [
        "def generate_multiclass_blobs(num_samples_total, training_split, cluster_centers, num_classes, loss_function_used):\n",
        "    X, targets = make_blobs(n_samples = num_samples_total, centers = cluster_centers, n_features = num_classes, center_box=(0, 1), cluster_std = 1.5)\n",
        "    categorical_targets = to_categorical(targets)\n",
        "    X_training = X[training_split:, :]\n",
        "    X_testing = X[:training_split, :]\n",
        "    Targets_training = categorical_targets[training_split:]\n",
        "    Targets_testing = categorical_targets[:training_split].astype(np.int32)\n",
        "    return X_training, Targets_training, X_testing, Targets_testing\n",
        "\n",
        "\n",
        "def generate_binary_blobs(num_samples_total, training_split, loss_function_used):\n",
        "    X, targets = make_blobs(n_samples = num_samples_total, centers = [(0,0), (15,15)], n_features = 2, center_box=(0, 1), cluster_std = 2.5)\n",
        "    targets[np.where(targets == 0)] = -1\n",
        "    X_training = X[training_split:, :]\n",
        "    X_testing = X[:training_split, :]\n",
        "    Targets_training = targets[training_split:]\n",
        "    Targets_testing = targets[:training_split]\n",
        "    return X_training, Targets_training, X_testing, Targets_testing"
      ],
      "execution_count": 3
    },
    {
      "cell_type": "markdown",
      "metadata": {
        "id": "39c6e318-5efe-4ef0-aeea-e3ee9470f8ad"
      },
      "source": [
        "## Categorical Cross-Entropy\n"
      ]
    },
    {
      "cell_type": "markdown",
      "metadata": {
        "id": "b7a554c2-b34a-4dfe-a088-9dcb3aae409b"
      },
      "source": [
        "When working on a machine learning problem, we use loss functions to optimize our models during training where a common objective is to minimize the loss function.\n",
        "\n",
        "Cross-entropy is a widely used loss or cost function, that is used to optimize classification models. Before delving into cross-entropy, let us first cover the prerequisites by learning about a common activation function called Softmax.\n"
      ]
    },
    {
      "cell_type": "markdown",
      "metadata": {
        "id": "3e8b5c8c-3251-4db1-807e-f891ed9b42d7"
      },
      "source": [
        "### Softmax Activation Function\n"
      ]
    },
    {
      "cell_type": "markdown",
      "metadata": {
        "id": "06e1bd2c-b83e-4a1c-bbec-d04190790acb"
      },
      "source": [
        "Activation functions are transformations applied to the output from CNNs before loss computations.\n"
      ]
    },
    {
      "cell_type": "markdown",
      "metadata": {
        "id": "b2f3f81d-83fc-45eb-9cf7-c017e675dfe8"
      },
      "source": [
        "The Softmax activation function is typically placed as the last layer in a neural network and used to normalize the output of a network to a probability distribution over predicted output classes.\n",
        "\n",
        "It does so by scaling numbers/logits into probabilities for each possible outcome or class present in our dataset. The resulting probabilities in the vector sum up to one.\n",
        "\n",
        "Mathematically, Softmax is defined as follows:\n",
        "\n",
        "<img src=\"https://cf-courses-data.s3.us.cloud-object-storage.appdomain.cloud/IBMDeveloperSkillsNetwork-ML311-Coursera/labs/Module3/L1/softmax.png\" style=\"width: 30%\">\n"
      ]
    },
    {
      "cell_type": "markdown",
      "metadata": {
        "id": "0dbde6e4-87a1-48e7-af36-eb12bb8fe3d5"
      },
      "source": [
        "Here, $\\overrightarrow{{z}}$ is an input vector to the Softmax function $\\sigma$.\n",
        "\n",
        "$\\overrightarrow{{z}}\\_i$ represents the $i$th element of the input vector, and can take on values from -inf to inf.\n",
        "\n",
        "$\\overrightarrow{{z}}_i$ represents the $i$th element of the input vector, and can take on values from -inf to inf.\n",
        "\n",
        "$e^{z_i}$ is a standard exponential function applied on the $i$th element of $z$, and the denominator is a normalizing term (L1-norm) to ensure the result is a valid probability distribution, that is, sums up to 1, and values are within the 0 - 1 range.\n"
      ]
    },
    {
      "cell_type": "markdown",
      "metadata": {
        "id": "2a24f1a8-ed26-4d15-b041-761531e310e2"
      },
      "source": [
        "Exponential is a steeply increasing function; that is, it increases the difference between outputs. In the final output, the largest element (which dominates the norm) is normalized to a value close to 1, while all the other elements end up being close to 0. Not only does the resulting vector show the winning class, but it also retains the original order of values.\n",
        "\n",
        "\n",
        "Another important point to note is that Softmax is not affected by negative values, as the exponent of any value is always a positive value.\n"
      ]
    },
    {
      "cell_type": "markdown",
      "metadata": {
        "id": "66bb2671-9c39-4a84-8ca6-4470aafd95cb"
      },
      "source": [
        "Let us walk through an example to understand Softmax.\n"
      ]
    },
    {
      "cell_type": "markdown",
      "metadata": {
        "id": "d8e775c1-2fd5-4a3e-882c-20116b021d5b"
      },
      "source": [
        "Imagine you are building a CNN model to classify an image as a dog, cat, fish, or horse. The fully-connected layer of your CNN gives a vector of logits. You pass the vector through the Softmax function above to obtain probabilities.\n"
      ]
    },
    {
      "cell_type": "markdown",
      "metadata": {
        "id": "224a6fe4-f44e-4a12-8d63-398f05193250"
      },
      "source": [
        "![](https://cf-courses-data.s3.us.cloud-object-storage.appdomain.cloud/IBMDeveloperSkillsNetwork-ML311-Coursera/labs/Module3/L1/cce_diag.png)\n"
      ]
    },
    {
      "cell_type": "markdown",
      "metadata": {
        "id": "0df9e4b2-60b8-4183-8e55-ebf4ddc52105"
      },
      "source": [
        "### One-Hot Encoding\n"
      ]
    },
    {
      "cell_type": "markdown",
      "metadata": {
        "id": "a40827b1-68bb-475b-acd7-83753b5cbaa0"
      },
      "source": [
        "The ground truth is typically presented in form of categorical data; that is, a given image is categorized into one of these classes: dog, cat, fish, or horse.\n"
      ]
    },
    {
      "cell_type": "markdown",
      "metadata": {
        "id": "1ce25714-fbdc-47ff-8a4b-6afec73fd958"
      },
      "source": [
        "For categorical variables where no ordinal relationships exist, we can perform one-hot encoding to represent each class. This is best explained through an example.\n",
        "\n",
        "In our case, we will have four classes, and these are the corresponding one-hot encoded labels:\n"
      ]
    },
    {
      "cell_type": "markdown",
      "metadata": {
        "id": "4981d3a1-d505-4397-aa56-e0094c6c2599"
      },
      "source": [
        "<img src=\"https://cf-courses-data.s3.us.cloud-object-storage.appdomain.cloud/IBMDeveloperSkillsNetwork-ML311-Coursera/labs/Module3/L1/ohe_labels.png\" style=\"width: 50%\">\n"
      ]
    },
    {
      "cell_type": "markdown",
      "metadata": {
        "id": "12571702-5937-4401-bd3a-54327157859d"
      },
      "source": [
        "So in one-hot encoding, we represent labels with a binary variable where for every given class, we have the value 1 for the position corresponding to that particular class and 0 elsewhere (that is, 100% probability of belonging to that class).\n"
      ]
    },
    {
      "cell_type": "markdown",
      "metadata": {
        "id": "9b122e23-8b43-4677-b706-b1f3dec578c9"
      },
      "source": [
        "### Back to Categorical Cross-Entropy\n"
      ]
    },
    {
      "cell_type": "markdown",
      "metadata": {
        "id": "36d2e829-5754-4001-a213-597640a4d5d6"
      },
      "source": [
        "Now that we have converted the logits to output probabilities, we need to measure how good they are; that is, measure the distance from the truth values.\n"
      ]
    },
    {
      "cell_type": "markdown",
      "metadata": {
        "id": "d642fb7f-2816-4aa8-ba67-8d6766efc6cd"
      },
      "source": [
        "For instance, in the example above, the desired output is [1,0,0,0], but the model outputs [0.775,0.116,0.039,0.070].\n"
      ]
    },
    {
      "cell_type": "markdown",
      "metadata": {
        "id": "fd97c4e2-a93f-4142-929e-b00b6c10619f"
      },
      "source": [
        "The categorical cross-entropy is mathematically defined as follows:\n"
      ]
    },
    {
      "cell_type": "markdown",
      "metadata": {
        "id": "43f7924c-4d57-4935-8550-1e8815efce92"
      },
      "source": [
        "<img src=\"https://cf-courses-data.s3.us.cloud-object-storage.appdomain.cloud/IBMDeveloperSkillsNetwork-ML311-Coursera/labs/Module3/L1/cce.png\" style=\"width: 30%\">\n"
      ]
    },
    {
      "cell_type": "markdown",
      "metadata": {
        "id": "3f0266c8-9006-4730-85ca-4fba75d84ff7"
      },
      "source": [
        "We can use the formula above to compute the cross-entropy loss. When training our model, we iteratively update the weights to minimize the cross-entropy loss.\n",
        "\n",
        "The Softmax is continuously differentiable, and this property makes it easy to compute the derivative of the loss function and, accordingly, adjust the model weights in each iteration to minimize the loss function.\n",
        "\n",
        "In the next iteration, if our $$L\\_{CE}$$ is lower than the current one, we say that the model is *learning*.\n"
      ]
    },
    {
      "cell_type": "markdown",
      "metadata": {
        "id": "d87c6a6b-dd88-4929-a101-505e4c2127b5"
      },
      "source": [
        "## Binary vs. Multi-Class Classification\n"
      ]
    },
    {
      "cell_type": "markdown",
      "metadata": {
        "id": "eba7e5dd-cf7f-45de-b904-5d24800a3e7a"
      },
      "source": [
        "Now, let us do a quick review of binary and multi-class classification. Binary classification tasks require that all examples be assigned to one of two classes, whereas in multi-class classification, examples can belong to more than two classes.\n",
        "\n",
        "For binary classification problems, we have a final layer with a single node and a sigmoid activation function. It can map the output vector from a CNN to values between 0 and 1 before loss computations. The sigmoid function is denoted using the following formula:\n",
        "\n",
        "$$\\sigma(x) = 1/(1+e^{-x})$$\n"
      ]
    },
    {
      "cell_type": "markdown",
      "metadata": {
        "id": "a2fb21ab-f014-46d5-84c1-e6eb8ac004c8"
      },
      "source": [
        "Let's see binary classification and multi-class classification in action.\n"
      ]
    },
    {
      "cell_type": "markdown",
      "metadata": {
        "id": "e671d8cd-5494-4ec6-be3e-14431bdc606f"
      },
      "source": [
        "### Binary Classification\n"
      ]
    },
    {
      "cell_type": "markdown",
      "metadata": {
        "id": "08c58609-c995-4d45-ad73-26922e3a77e9"
      },
      "source": [
        "Using a helper function defined at the beginning of the notebook, we will use the `make_blobs()` function from `sklearn` to generate isotropic Gaussian blobs for classification.\n",
        "\n",
        "We will create a data set with 1000 samples, and use 750 of those samples for training a simple CNN model.\n"
      ]
    },
    {
      "cell_type": "markdown",
      "metadata": {
        "id": "0cda6df2-a1bb-4d20-b07f-600cdcf71464"
      },
      "source": [
        "Let us define a few more configuration options.\n"
      ]
    },
    {
      "cell_type": "markdown",
      "metadata": {
        "id": "6db39e8c-6ce4-4f16-8f5a-026f4be60197"
      },
      "source": [
        "*   **num_samples**: refers to the total number of samples in our dataset\n",
        "*   **test_split**: refers to the number of samples to be used for testing\n",
        "*   **cluster_centers**: we define 2 centers for our isotropic Gaussian blobs\n",
        "*   **num_classes**: we have 2 classes\n",
        "*   **loss_function_used**: since this is a binary classification problem, we use binary cross-entropy loss\n"
      ]
    },
    {
      "cell_type": "code",
      "metadata": {
        "id": "9abd258b-6da0-4306-ab51-1961a1cfbb37"
      },
      "outputs": [],
      "source": [
        "num_samples = 1000\n",
        "test_split = 250\n",
        "cluster_centers = [(15,0), (30,15)]\n",
        "num_classes = len(cluster_centers)\n",
        "loss_function_used = BinaryCrossentropy(from_logits=True)"
      ],
      "execution_count": 4
    },
    {
      "cell_type": "code",
      "metadata": {
        "id": "8c6c8023-bdad-46ae-bfa1-e9127f238059"
      },
      "outputs": [],
      "source": [
        "X_training, Targets_training, X_testing, Targets_testing=generate_binary_blobs(num_samples, test_split, loss_function_used)\n"
      ],
      "execution_count": 5
    },
    {
      "cell_type": "markdown",
      "metadata": {
        "id": "259f172b-025f-47e4-a902-f6ec756ab259"
      },
      "source": [
        "We can take look at one of the samples.\n"
      ]
    },
    {
      "cell_type": "code",
      "metadata": {
        "colab": {
          "base_uri": "https://localhost:8080/",
          "height": 410
        },
        "id": "5e1271dd-bfd8-463a-8e2d-b03aad306571",
        "outputId": "df205d2f-da0e-4db7-a5fd-0bdafc250607"
      },
      "outputs": [
        {
          "output_type": "display_data",
          "data": {
            "text/plain": [
              "<Figure size 400x400 with 1 Axes>"
            ],
            "image/png": "[encoded data removed]"
          },
          "metadata": {}
        }
      ],
      "source": [
        "plt.figure(figsize=(4, 4))\n",
        "plt.scatter(X_training[:,0], X_training[:,1])\n",
        "plt.title('Linearly separable data')\n",
        "plt.xlabel('X1')\n",
        "plt.ylabel('X2')\n",
        "plt.show()"
      ],
      "execution_count": 6
    },
    {
      "cell_type": "markdown",
      "metadata": {
        "id": "1e419625-b6dd-42f8-b064-cb76e435bd87"
      },
      "source": [
        "We will build a simple CNN model with two hidden layers, that uses sigmoid as the activation function, and binary cross-entropy as the loss function. Let's define the architecture of our model:\n"
      ]
    },
    {
      "cell_type": "code",
      "metadata": {
        "colab": {
          "base_uri": "https://localhost:8080/"
        },
        "id": "a21fd3cf-b911-41a3-ac04-5fcad6ac9ac5",
        "outputId": "063e0818-f8c6-44a6-db1c-36195928c40f"
      },
      "outputs": [
        {
          "output_type": "stream",
          "name": "stderr",
          "text": [
            "/usr/local/lib/python3.11/dist-packages/keras/src/layers/core/dense.py:87: UserWarning: Do not pass an `input_shape`/`input_dim` argument to a layer. When using Sequential models, prefer using an `Input(shape)` object as the first layer in the model instead.\n",
            "  super().__init__(activity_regularizer=activity_regularizer, **kwargs)\n"
          ]
        }
      ],
      "source": [
        "feature_vector_shape = X_training.shape[1]\n",
        "input_shape = (feature_vector_shape,)\n",
        "\n",
        "model = Sequential()\n",
        "model.add(Dense(12, input_shape=input_shape, activation='relu', kernel_initializer='he_uniform'))\n",
        "model.add(Dense(8, activation='relu', kernel_initializer='he_uniform'))\n",
        "model.add(Dense(1, activation = 'sigmoid'))"
      ],
      "execution_count": 7
    },
    {
      "cell_type": "code",
      "metadata": {
        "colab": {
          "base_uri": "https://localhost:8080/"
        },
        "id": "84c560a8-9f02-48f9-a537-2bf1e24669c6",
        "outputId": "1279b674-284d-4c54-8329-a0163108e528"
      },
      "outputs": [
        {
          "output_type": "stream",
          "name": "stdout",
          "text": [
            "Epoch 1/30\n"
          ]
        },
        {
          "output_type": "stream",
          "name": "stderr",
          "text": [
            "/usr/local/lib/python3.11/dist-packages/keras/src/backend/tensorflow/nn.py:780: UserWarning: \"`binary_crossentropy` received `from_logits=True`, but the `output` argument was produced by a Sigmoid activation and thus does not represent logits. Was this intended?\n",
            "  output, from_logits = _get_logits(\n"
          ]
        },
        {
          "output_type": "stream",
          "name": "stdout",
          "text": [
            "\u001b[1m120/120\u001b[0m \u001b[32m━━━━━━━━━━━━━━━━━━━━\u001b[0m\u001b[37m\u001b[0m \u001b[1m4s\u001b[0m 8ms/step - accuracy: 0.4357 - loss: -2.0520 - val_accuracy: 0.4933 - val_loss: -44.4106\n",
            "Epoch 2/30\n",
            "\u001b[1m120/120\u001b[0m \u001b[32m━━━━━━━━━━━━━━━━━━━━\u001b[0m\u001b[37m\u001b[0m \u001b[1m0s\u001b[0m 3ms/step - accuracy: 0.4733 - loss: -148.6597 - val_accuracy: 0.4867 - val_loss: -889.1302\n",
            "Epoch 3/30\n",
            "\u001b[1m120/120\u001b[0m \u001b[32m━━━━━━━━━━━━━━━━━━━━\u001b[0m\u001b[37m\u001b[0m \u001b[1m1s\u001b[0m 3ms/step - accuracy: 0.5091 - loss: -1557.7275 - val_accuracy: 0.4533 - val_loss: -4364.0508\n",
            "Epoch 4/30\n",
            "\u001b[1m120/120\u001b[0m \u001b[32m━━━━━━━━━━━━━━━━━━━━\u001b[0m\u001b[37m\u001b[0m \u001b[1m1s\u001b[0m 3ms/step - accuracy: 0.4813 - loss: -5938.2305 - val_accuracy: 0.4867 - val_loss: -11955.1973\n",
            "Epoch 5/30\n",
            "\u001b[1m120/120\u001b[0m \u001b[32m━━━━━━━━━━━━━━━━━━━━\u001b[0m\u001b[37m\u001b[0m \u001b[1m1s\u001b[0m 3ms/step - accuracy: 0.4875 - loss: -14943.6514 - val_accuracy: 0.4800 - val_loss: -24464.4805\n",
            "Epoch 6/30\n",
            "\u001b[1m120/120\u001b[0m \u001b[32m━━━━━━━━━━━━━━━━━━━━\u001b[0m\u001b[37m\u001b[0m \u001b[1m1s\u001b[0m 3ms/step - accuracy: 0.4800 - loss: -28682.8164 - val_accuracy: 0.4933 - val_loss: -42783.1992\n",
            "Epoch 7/30\n",
            "\u001b[1m120/120\u001b[0m \u001b[32m━━━━━━━━━━━━━━━━━━━━\u001b[0m\u001b[37m\u001b[0m \u001b[1m0s\u001b[0m 3ms/step - accuracy: 0.4714 - loss: -49988.4766 - val_accuracy: 0.4933 - val_loss: -68537.1016\n",
            "Epoch 8/30\n",
            "\u001b[1m120/120\u001b[0m \u001b[32m━━━━━━━━━━━━━━━━━━━━\u001b[0m\u001b[37m\u001b[0m \u001b[1m1s\u001b[0m 3ms/step - accuracy: 0.5369 - loss: -70756.7734 - val_accuracy: 0.4933 - val_loss: -101763.8047\n",
            "Epoch 9/30\n",
            "\u001b[1m120/120\u001b[0m \u001b[32m━━━━━━━━━━━━━━━━━━━━\u001b[0m\u001b[37m\u001b[0m \u001b[1m0s\u001b[0m 3ms/step - accuracy: 0.4717 - loss: -118897.9688 - val_accuracy: 0.4933 - val_loss: -145142.5000\n",
            "Epoch 10/30\n",
            "\u001b[1m120/120\u001b[0m \u001b[32m━━━━━━━━━━━━━━━━━━━━\u001b[0m\u001b[37m\u001b[0m \u001b[1m1s\u001b[0m 4ms/step - accuracy: 0.4725 - loss: -174516.3281 - val_accuracy: 0.4933 - val_loss: -195621.3281\n",
            "Epoch 11/30\n",
            "\u001b[1m120/120\u001b[0m \u001b[32m━━━━━━━━━━━━━━━━━━━━\u001b[0m\u001b[37m\u001b[0m \u001b[1m1s\u001b[0m 3ms/step - accuracy: 0.5093 - loss: -201956.9688 - val_accuracy: 0.4933 - val_loss: -256330.7500\n",
            "Epoch 12/30\n",
            "\u001b[1m120/120\u001b[0m \u001b[32m━━━━━━━━━━━━━━━━━━━━\u001b[0m\u001b[37m\u001b[0m \u001b[1m1s\u001b[0m 3ms/step - accuracy: 0.4592 - loss: -294245.1875 - val_accuracy: 0.4867 - val_loss: -327835.4062\n",
            "Epoch 13/30\n",
            "\u001b[1m120/120\u001b[0m \u001b[32m━━━━━━━━━━━━━━━━━━━━\u001b[0m\u001b[37m\u001b[0m \u001b[1m1s\u001b[0m 3ms/step - accuracy: 0.4984 - loss: -359253.1875 - val_accuracy: 0.4933 - val_loss: -410012.7500\n",
            "Epoch 14/30\n",
            "\u001b[1m120/120\u001b[0m \u001b[32m━━━━━━━━━━━━━━━━━━━━\u001b[0m\u001b[37m\u001b[0m \u001b[1m1s\u001b[0m 3ms/step - accuracy: 0.4958 - loss: -443951.6250 - val_accuracy: 0.4800 - val_loss: -501844.6875\n",
            "Epoch 15/30\n",
            "\u001b[1m120/120\u001b[0m \u001b[32m━━━━━━━━━━━━━━━━━━━━\u001b[0m\u001b[37m\u001b[0m \u001b[1m1s\u001b[0m 3ms/step - accuracy: 0.4986 - loss: -545852.2500 - val_accuracy: 0.4933 - val_loss: -606467.4375\n",
            "Epoch 16/30\n",
            "\u001b[1m120/120\u001b[0m \u001b[32m━━━━━━━━━━━━━━━━━━━━\u001b[0m\u001b[37m\u001b[0m \u001b[1m0s\u001b[0m 3ms/step - accuracy: 0.4929 - loss: -682277.1250 - val_accuracy: 0.4800 - val_loss: -721523.1250\n",
            "Epoch 17/30\n",
            "\u001b[1m120/120\u001b[0m \u001b[32m━━━━━━━━━━━━━━━━━━━━\u001b[0m\u001b[37m\u001b[0m \u001b[1m0s\u001b[0m 3ms/step - accuracy: 0.5150 - loss: -780179.2500 - val_accuracy: 0.4867 - val_loss: -848007.0625\n",
            "Epoch 18/30\n",
            "\u001b[1m120/120\u001b[0m \u001b[32m━━━━━━━━━━━━━━━━━━━━\u001b[0m\u001b[37m\u001b[0m \u001b[1m0s\u001b[0m 3ms/step - accuracy: 0.5122 - loss: -928129.0000 - val_accuracy: 0.4933 - val_loss: -988475.4375\n",
            "Epoch 19/30\n",
            "\u001b[1m120/120\u001b[0m \u001b[32m━━━━━━━━━━━━━━━━━━━━\u001b[0m\u001b[37m\u001b[0m \u001b[1m1s\u001b[0m 3ms/step - accuracy: 0.4878 - loss: -1052964.0000 - val_accuracy: 0.4933 - val_loss: -1135735.6250\n",
            "Epoch 20/30\n",
            "\u001b[1m120/120\u001b[0m \u001b[32m━━━━━━━━━━━━━━━━━━━━\u001b[0m\u001b[37m\u001b[0m \u001b[1m1s\u001b[0m 5ms/step - accuracy: 0.4748 - loss: -1275898.5000 - val_accuracy: 0.4867 - val_loss: -1298606.5000\n",
            "Epoch 21/30\n",
            "\u001b[1m120/120\u001b[0m \u001b[32m━━━━━━━━━━━━━━━━━━━━\u001b[0m\u001b[37m\u001b[0m \u001b[1m1s\u001b[0m 5ms/step - accuracy: 0.5152 - loss: -1300408.8750 - val_accuracy: 0.4867 - val_loss: -1474152.3750\n",
            "Epoch 22/30\n",
            "\u001b[1m120/120\u001b[0m \u001b[32m━━━━━━━━━━━━━━━━━━━━\u001b[0m\u001b[37m\u001b[0m \u001b[1m1s\u001b[0m 3ms/step - accuracy: 0.4770 - loss: -1606469.1250 - val_accuracy: 0.4867 - val_loss: -1664934.8750\n",
            "Epoch 23/30\n",
            "\u001b[1m120/120\u001b[0m \u001b[32m━━━━━━━━━━━━━━━━━━━━\u001b[0m\u001b[37m\u001b[0m \u001b[1m0s\u001b[0m 3ms/step - accuracy: 0.4962 - loss: -1759382.2500 - val_accuracy: 0.4867 - val_loss: -1865984.8750\n",
            "Epoch 24/30\n",
            "\u001b[1m120/120\u001b[0m \u001b[32m━━━━━━━━━━━━━━━━━━━━\u001b[0m\u001b[37m\u001b[0m \u001b[1m1s\u001b[0m 3ms/step - accuracy: 0.5056 - loss: -2019155.2500 - val_accuracy: 0.4867 - val_loss: -2082027.5000\n",
            "Epoch 25/30\n",
            "\u001b[1m120/120\u001b[0m \u001b[32m━━━━━━━━━━━━━━━━━━━━\u001b[0m\u001b[37m\u001b[0m \u001b[1m0s\u001b[0m 3ms/step - accuracy: 0.4945 - loss: -2232164.5000 - val_accuracy: 0.4867 - val_loss: -2310552.5000\n",
            "Epoch 26/30\n",
            "\u001b[1m120/120\u001b[0m \u001b[32m━━━━━━━━━━━━━━━━━━━━\u001b[0m\u001b[37m\u001b[0m \u001b[1m0s\u001b[0m 3ms/step - accuracy: 0.4762 - loss: -2453068.0000 - val_accuracy: 0.4867 - val_loss: -2556654.5000\n",
            "Epoch 27/30\n",
            "\u001b[1m120/120\u001b[0m \u001b[32m━━━━━━━━━━━━━━━━━━━━\u001b[0m\u001b[37m\u001b[0m \u001b[1m0s\u001b[0m 3ms/step - accuracy: 0.5402 - loss: -2434291.2500 - val_accuracy: 0.4867 - val_loss: -2809138.2500\n",
            "Epoch 28/30\n",
            "\u001b[1m120/120\u001b[0m \u001b[32m━━━━━━━━━━━━━━━━━━━━\u001b[0m\u001b[37m\u001b[0m \u001b[1m1s\u001b[0m 3ms/step - accuracy: 0.4783 - loss: -3022620.2500 - val_accuracy: 0.4867 - val_loss: -3083653.5000\n",
            "Epoch 29/30\n",
            "\u001b[1m120/120\u001b[0m \u001b[32m━━━━━━━━━━━━━━━━━━━━\u001b[0m\u001b[37m\u001b[0m \u001b[1m0s\u001b[0m 3ms/step - accuracy: 0.4867 - loss: -3425468.0000 - val_accuracy: 0.4800 - val_loss: -3367104.5000\n",
            "Epoch 30/30\n",
            "\u001b[1m120/120\u001b[0m \u001b[32m━━━━━━━━━━━━━━━━━━━━\u001b[0m\u001b[37m\u001b[0m \u001b[1m1s\u001b[0m 3ms/step - accuracy: 0.4820 - loss: -3464572.2500 - val_accuracy: 0.4800 - val_loss: -3669164.7500\n"
          ]
        }
      ],
      "source": [
        "model.compile(loss=loss_function_used, optimizer=tf.keras.optimizers.Adam(learning_rate=0.01), metrics=['accuracy'])\n",
        "history = model.fit(X_training, Targets_training, epochs=30, batch_size=5, verbose=1, validation_split=0.2)"
      ],
      "execution_count": 9
    },
    {
      "cell_type": "markdown",
      "metadata": {
        "id": "947a8e18-1993-44a2-b200-7b1385f62557"
      },
      "source": [
        "We will now use the trained model to make predictions on an unseen test dataset.\n"
      ]
    },
    {
      "cell_type": "code",
      "metadata": {
        "colab": {
          "base_uri": "https://localhost:8080/"
        },
        "id": "5bb979a7-13d3-45b5-ae66-592719b2a4c3",
        "outputId": "6e7fa631-9e45-45c5-d28b-55f980383fc7"
      },
      "outputs": [
        {
          "output_type": "stream",
          "name": "stdout",
          "text": [
            "Test results - Loss: -3712030.0 - Accuracy: 47.600001096725464%\n"
          ]
        }
      ],
      "source": [
        "test_results = model.evaluate(X_testing, Targets_testing, verbose=0)\n",
        "print(f'Test results - Loss: {test_results[0]} - Accuracy: {test_results[1]*100}%')"
      ],
      "execution_count": 10
    },
    {
      "cell_type": "code",
      "metadata": {
        "colab": {
          "base_uri": "https://localhost:8080/",
          "height": 466
        },
        "id": "558f1c14-5c56-45f2-ab17-27f4a49d09ad",
        "outputId": "b7dd5c34-9cf3-400d-8d49-d6d775b1d412"
      },
      "outputs": [
        {
          "output_type": "stream",
          "name": "stdout",
          "text": [
            "\u001b[1m9600/9600\u001b[0m \u001b[32m━━━━━━━━━━━━━━━━━━━━\u001b[0m\u001b[37m\u001b[0m \u001b[1m12s\u001b[0m 1ms/step\n"
          ]
        },
        {
          "output_type": "display_data",
          "data": {
            "text/plain": [
              "<Figure size 640x480 with 1 Axes>"
            ],
            "image/png": "[encoded data removed]"
          },
          "metadata": {}
        },
        {
          "output_type": "display_data",
          "data": {
            "text/plain": [
              "<Figure size 400x400 with 0 Axes>"
            ]
          },
          "metadata": {}
        }
      ],
      "source": [
        "plot_decision_regions(X_testing, Targets_testing, clf=model, legend=2)\n",
        "plt.figure(figsize=(4, 4))\n",
        "plt.show()"
      ],
      "execution_count": 11
    },
    {
      "cell_type": "markdown",
      "metadata": {
        "id": "4fb9f288-c625-41ce-a8a3-cdec56c6c20a"
      },
      "source": [
        "The model successfully classifies the two clusters into two classes.\n"
      ]
    },
    {
      "cell_type": "markdown",
      "metadata": {
        "id": "c1397eab-46d6-454f-9a1d-fbe2d2dd1a8b"
      },
      "source": [
        "### Multi-Class Classification\n"
      ]
    },
    {
      "cell_type": "markdown",
      "metadata": {
        "id": "5bb15802-475e-4afa-81a6-834d7842233c"
      },
      "source": [
        "Similar to binary classification, let's create another data set with 1000 samples, and use 750 of those samples for training a simple CNN model.\n"
      ]
    },
    {
      "cell_type": "markdown",
      "metadata": {
        "id": "0920bc38-a6c6-42fc-8ee2-434fcd173d05"
      },
      "source": [
        "Let us define a few more configuration options.\n"
      ]
    },
    {
      "cell_type": "markdown",
      "metadata": {
        "id": "02cfbebe-4c53-47a9-97e4-c29284afced9"
      },
      "source": [
        "*   **num_samples**: refers to the total number of samples in our dataset\n",
        "*   **test_split**: refers to the number of samples to be used for testing\n",
        "*   **cluster_centers**: we define 3 centers for our isotropic Gaussian blobs\n",
        "*   **num_classes**: we have 3 classes\n",
        "*   **loss_function_used**: since this is a multi-class classification problem, we use categorical cross-entropy loss\n"
      ]
    },
    {
      "cell_type": "code",
      "metadata": {
        "id": "57ee3a2d-d7e8-4e46-937e-2d6db4b30511"
      },
      "outputs": [],
      "source": [
        "num_samples = 1000\n",
        "train_split = 250\n",
        "cluster_centers = [(-10, 5), (0, 0), (10, 5)]\n",
        "num_classes = len(cluster_centers)\n",
        "loss_function_used = CategoricalCrossentropy(from_logits=True)"
      ],
      "execution_count": 12
    },
    {
      "cell_type": "code",
      "metadata": {
        "id": "0475c1aa-f1cc-4691-856c-bb90708bf977"
      },
      "outputs": [],
      "source": [
        "X_training, Targets_training, X_testing, Targets_testing= generate_multiclass_blobs(num_samples, train_split,\n",
        "              cluster_centers, num_classes,\n",
        "              loss_function_used)"
      ],
      "execution_count": 13
    },
    {
      "cell_type": "markdown",
      "metadata": {
        "id": "d69c37c3-124d-40d6-81ca-842f8a87bfe6"
      },
      "source": [
        "Let's take a look at one of the samples.\n"
      ]
    },
    {
      "cell_type": "code",
      "metadata": {
        "colab": {
          "base_uri": "https://localhost:8080/",
          "height": 472
        },
        "id": "faf238c0-5fb3-4d60-ae1e-ae7aff40ab93",
        "outputId": "cfeedb6b-097a-4460-a0e0-72f162bf755f"
      },
      "outputs": [
        {
          "output_type": "display_data",
          "data": {
            "text/plain": [
              "<Figure size 640x480 with 1 Axes>"
            ],
            "image/png": "[encoded data removed]"
          },
          "metadata": {}
        }
      ],
      "source": [
        "plt.scatter(X_training[:,0], X_training[:,1])\n",
        "plt.title('Linearly separable data')\n",
        "plt.xlabel('X1')\n",
        "plt.ylabel('X2')\n",
        "plt.show()"
      ],
      "execution_count": 14
    },
    {
      "cell_type": "markdown",
      "metadata": {
        "id": "f3556105-3050-403e-8705-058a3d0b756d"
      },
      "source": [
        "We will build a simple CNN model with two hidden layers, that uses softmax as the activation function, and categorical cross-entropy as the loss function. Let's define the architecture of our model:\n"
      ]
    },
    {
      "cell_type": "code",
      "metadata": {
        "colab": {
          "base_uri": "https://localhost:8080/"
        },
        "id": "40ab60c5-1eed-4e4b-88ed-e5da5e117237",
        "outputId": "3ed97262-3d15-4597-99c5-ea22b837f713"
      },
      "outputs": [
        {
          "output_type": "stream",
          "name": "stderr",
          "text": [
            "/usr/local/lib/python3.11/dist-packages/keras/src/layers/core/dense.py:87: UserWarning: Do not pass an `input_shape`/`input_dim` argument to a layer. When using Sequential models, prefer using an `Input(shape)` object as the first layer in the model instead.\n",
            "  super().__init__(activity_regularizer=activity_regularizer, **kwargs)\n"
          ]
        }
      ],
      "source": [
        "feature_vector_shape = X_training.shape[1]\n",
        "input_shape = (feature_vector_shape,)\n",
        "\n",
        "model = Sequential()\n",
        "model.add(Dense(12, input_shape=input_shape, activation='relu', kernel_initializer='he_uniform'))\n",
        "model.add(Dense(8, activation='relu', kernel_initializer='he_uniform'))\n",
        "model.add(Dense(num_classes, activation='softmax'))"
      ],
      "execution_count": 15
    },
    {
      "cell_type": "code",
      "metadata": {
        "colab": {
          "base_uri": "https://localhost:8080/"
        },
        "id": "35cd1761-4256-409a-82eb-2454a5eab7cc",
        "outputId": "1db8aac7-fe9f-4507-e570-23b510614540"
      },
      "outputs": [
        {
          "output_type": "stream",
          "name": "stderr",
          "text": [
            "/usr/local/lib/python3.11/dist-packages/keras/src/backend/tensorflow/nn.py:666: UserWarning: \"`categorical_crossentropy` received `from_logits=True`, but the `output` argument was produced by a Softmax activation and thus does not represent logits. Was this intended?\n",
            "  output, from_logits = _get_logits(\n"
          ]
        }
      ],
      "source": [
        "model.compile(loss=loss_function_used, optimizer=tf.keras.optimizers.Adam(learning_rate=0.001), metrics=['accuracy'])\n",
        "history = model.fit(X_training, Targets_training, epochs=30, batch_size=5, verbose=0, validation_split=0.2)"
      ],
      "execution_count": 17
    },
    {
      "cell_type": "markdown",
      "metadata": {
        "id": "e772e386-d6ba-492c-b717-7b36bc245e87"
      },
      "source": [
        "We will now use the trained model to make predictions on an unseen test dataset.\n"
      ]
    },
    {
      "cell_type": "code",
      "metadata": {
        "colab": {
          "base_uri": "https://localhost:8080/"
        },
        "id": "de5ed0e8-14a4-47a1-90a7-f544ae93df2e",
        "outputId": "5fcb03f5-7012-4886-cefa-27d443147b9f"
      },
      "outputs": [
        {
          "output_type": "stream",
          "name": "stdout",
          "text": [
            "\u001b[1m8/8\u001b[0m \u001b[32m━━━━━━━━━━━━━━━━━━━━\u001b[0m\u001b[37m\u001b[0m \u001b[1m0s\u001b[0m 5ms/step - accuracy: 1.0000 - loss: 0.0044  \n",
            "Test results - Loss: 0.004885724280029535 - Accuracy: 100.0%\n"
          ]
        }
      ],
      "source": [
        "test_results = model.evaluate(X_testing, Targets_testing, verbose=1)\n",
        "print(f'Test results - Loss: {test_results[0]} - Accuracy: {test_results[1]*100}%')"
      ],
      "execution_count": 18
    },
    {
      "cell_type": "code",
      "metadata": {
        "id": "3cf992c6-9c25-4c53-adf7-ef817fa102eb"
      },
      "outputs": [],
      "source": [
        "class Onehot2Int(object):\n",
        "\n",
        "    def __init__(self, model):\n",
        "        self.model = model\n",
        "\n",
        "    def predict(self, X):\n",
        "        y_pred = self.model.predict(X)\n",
        "        return np.argmax(y_pred, axis=1)\n",
        "\n",
        "# fit keras_model\n",
        "keras_model_no_ohe = Onehot2Int(model)"
      ],
      "execution_count": 19
    },
    {
      "cell_type": "code",
      "metadata": {
        "colab": {
          "base_uri": "https://localhost:8080/",
          "height": 448
        },
        "id": "0a56855f-272f-464b-8035-f81239318144",
        "outputId": "b2cfc15c-787e-4701-b5fc-886610a4cd44"
      },
      "outputs": [
        {
          "output_type": "stream",
          "name": "stdout",
          "text": [
            "\u001b[1m9600/9600\u001b[0m \u001b[32m━━━━━━━━━━━━━━━━━━━━\u001b[0m\u001b[37m\u001b[0m \u001b[1m12s\u001b[0m 1ms/step\n"
          ]
        },
        {
          "output_type": "display_data",
          "data": {
            "text/plain": [
              "<Figure size 640x480 with 1 Axes>"
            ],
            "image/png": "[encoded data removed]"
          },
          "metadata": {}
        }
      ],
      "source": [
        "# Plot decision boundary\n",
        "plot_decision_regions(X_testing, np.argmax(Targets_testing, axis=1), clf=keras_model_no_ohe, legend=3)\n",
        "plt.show()"
      ],
      "execution_count": 20
    },
    {
      "cell_type": "markdown",
      "metadata": {
        "id": "61838803-df3a-48dc-a2fd-e9948047f1f0"
      },
      "source": [
        "## Example: MNIST Hand-Written Digits\n"
      ]
    },
    {
      "cell_type": "markdown",
      "metadata": {
        "id": "787011cc-ebcc-478d-b90b-e8e963c5ef87"
      },
      "source": [
        "Let us first load our MNIST hand-written dataset using the Keras library.\n"
      ]
    },
    {
      "cell_type": "code",
      "metadata": {
        "id": "968dc308-6e95-4743-ad00-958cccb6b064"
      },
      "outputs": [],
      "source": [
        "(X_train, y_train), (X_test, y_test) = mnist.load_data()"
      ],
      "execution_count": 26
    },
    {
      "cell_type": "code",
      "metadata": {
        "colab": {
          "base_uri": "https://localhost:8080/"
        },
        "id": "a4cebf28-2148-4e05-bcad-7cbe46a04ce4",
        "outputId": "0a8f43a2-d14e-4cda-e9d9-a0456d11e616"
      },
      "outputs": [
        {
          "output_type": "stream",
          "name": "stdout",
          "text": [
            "X_train shape (60000, 28, 28)\n",
            "y_train shape (60000,)\n",
            "X_test shape (10000, 28, 28)\n",
            "y_test shape (10000,)\n"
          ]
        }
      ],
      "source": [
        "print(\"X_train shape\", X_train.shape)\n",
        "print(\"y_train shape\", y_train.shape)\n",
        "print(\"X_test shape\", X_test.shape)\n",
        "print(\"y_test shape\", y_test.shape)"
      ],
      "execution_count": 27
    },
    {
      "cell_type": "markdown",
      "metadata": {
        "id": "6abb43a0-a5e9-4fa9-8fa3-bd2d507916bd"
      },
      "source": [
        "Now we can plot some sample digits from the training set.\n"
      ]
    },
    {
      "cell_type": "code",
      "metadata": {
        "colab": {
          "base_uri": "https://localhost:8080/",
          "height": 607
        },
        "id": "7e885b5f-b3a7-4f65-8bc6-f9b0d4b7da8f",
        "outputId": "f5139eec-f2d5-401a-a612-e915b0abfacd"
      },
      "outputs": [
        {
          "output_type": "display_data",
          "data": {
            "text/plain": [
              "<Figure size 600x600 with 4 Axes>"
            ],
            "image/png": "[encoded data removed]"
          },
          "metadata": {}
        }
      ],
      "source": [
        "plt.rcParams['figure.figsize'] = (6,6)\n",
        "\n",
        "for i in range(4):\n",
        "    plt.subplot(2,2,i+1)\n",
        "    num = random.randint(0, len(X_train))\n",
        "    plt.imshow(X_train[num], cmap='gray', interpolation='none')\n",
        "    plt.title(\"class {}\".format(y_train[num]))\n",
        "\n",
        "plt.tight_layout()"
      ],
      "execution_count": 28
    },
    {
      "cell_type": "markdown",
      "metadata": {
        "id": "959b726f-bf4e-4000-b012-cbf359b091ce"
      },
      "source": [
        "Each image is on a grayscale (that is, only 1 channel) and is of size 28x28. We need to flatten each image by reshaping our matrix from 28x28 to a 784-length vector.\n"
      ]
    },
    {
      "cell_type": "code",
      "source": [
        "X_train.shape\n"
      ],
      "metadata": {
        "colab": {
          "base_uri": "https://localhost:8080/"
        },
        "id": "FCNJz3hTyTE8",
        "outputId": "0b3cd348-7020-415f-c596-12c1227f0bf0"
      },
      "execution_count": 29,
      "outputs": [
        {
          "output_type": "execute_result",
          "data": {
            "text/plain": [
              "(60000, 28, 28)"
            ]
          },
          "metadata": {},
          "execution_count": 29
        }
      ]
    },
    {
      "cell_type": "code",
      "metadata": {
        "colab": {
          "base_uri": "https://localhost:8080/"
        },
        "id": "20395c10-3921-475c-9157-115b3b021bc0",
        "outputId": "5e93acaf-ba3a-4f33-87e3-a12dbd9bfabd"
      },
      "outputs": [
        {
          "output_type": "stream",
          "name": "stdout",
          "text": [
            "(60000, 784)\n",
            "(10000, 784)\n"
          ]
        }
      ],
      "source": [
        "X_train = X_train.reshape(X_train.shape[0], X_train.shape[1]* X_train.shape[2])\n",
        "X_test = X_test.reshape(X_test.shape[0], X_test.shape[1] * X_test.shape[2])\n",
        "\n",
        "print(X_train.shape)\n",
        "print(X_test.shape)"
      ],
      "execution_count": 43
    },
    {
      "cell_type": "markdown",
      "metadata": {
        "id": "65124980-169c-41a1-8df0-12018e9fe62f"
      },
      "source": [
        "Next, we need to change integers to 32-bit floating point numbers. We would also need to normalize our input to be in the range [0, 1], rather than [0-255].\n"
      ]
    },
    {
      "cell_type": "code",
      "metadata": {
        "id": "ca7f7e78-9d7f-4d60-86f8-98bf4fefd22d"
      },
      "outputs": [],
      "source": [
        "_outputX_train = X_train.astype('float32')\n",
        "X_test = X_test.astype('float32')\n",
        "\n",
        "X_train /= 255\n",
        "X_test /= 255"
      ],
      "execution_count": 44
    },
    {
      "cell_type": "markdown",
      "metadata": {
        "id": "eaada7fa-7b54-4d7b-a3dd-bb664c4eb548"
      },
      "source": [
        "Our target variable, `y`, is an array of the following form:\n"
      ]
    },
    {
      "cell_type": "code",
      "metadata": {
        "colab": {
          "base_uri": "https://localhost:8080/"
        },
        "id": "19d3e990-287f-416f-bcf9-80f5299a0e9d",
        "outputId": "7683dc55-e14f-4f11-f3dd-1d9fd0c88201"
      },
      "outputs": [
        {
          "output_type": "execute_result",
          "data": {
            "text/plain": [
              "array([5, 0, 4, ..., 5, 6, 8], dtype=uint8)"
            ]
          },
          "metadata": {},
          "execution_count": 31
        }
      ],
      "source": [
        "y_train"
      ],
      "execution_count": 31
    },
    {
      "cell_type": "markdown",
      "metadata": {
        "id": "9e158e24-7acb-4deb-be3e-05e7713b917c"
      },
      "source": [
        "The categorical cross-entropy function expects that we provide one-hot encoded representations of the labels and predictions. Let us one-hot encode our target, `y`, using the `OneHotEncoder()` function from sklearn.\n"
      ]
    },
    {
      "cell_type": "code",
      "metadata": {
        "colab": {
          "base_uri": "https://localhost:8080/"
        },
        "id": "5fa74c26-608d-49a2-ac6a-581483e8d53b",
        "outputId": "d494ab84-0dbb-4e80-ce70-a8e81b99bd40"
      },
      "outputs": [
        {
          "output_type": "stream",
          "name": "stdout",
          "text": [
            "[array([0, 1, 2, 3, 4, 5, 6, 7, 8, 9], dtype=uint8)]\n"
          ]
        }
      ],
      "source": [
        "enc = OneHotEncoder(sparse_output=False)\n",
        "enc.fit(y_train.reshape(-1, 1))\n",
        "print(enc.categories_)"
      ],
      "execution_count": 35
    },
    {
      "cell_type": "code",
      "metadata": {
        "id": "8492a953-e26d-49d0-aab4-09706553975f"
      },
      "outputs": [],
      "source": [
        "y_train_enc = enc.transform(y_train.reshape(-1,1))\n",
        "y_test_enc = enc.transform(y_test.reshape(-1,1))"
      ],
      "execution_count": 40
    },
    {
      "cell_type": "markdown",
      "metadata": {
        "id": "8f654ec1-1f5f-4c87-8430-05dbe5256156"
      },
      "source": [
        "In this multi-class classification task, we want to interpret our logistic regression model's results as a probability distribution; that is the model should output a vector that represents the probability of the given image belonging to each of the 10 classes.\n",
        "\n",
        "All elements in the vector should fall into the \\[0,1] range and sum up to 1. In order to set up our classification problem this way, we can feed the model output to a softmax function to produce probabilities.\n"
      ]
    },
    {
      "cell_type": "markdown",
      "metadata": {
        "id": "4dec8024-0603-4f63-be4e-0031c50a39fa"
      },
      "source": [
        "For training our multi-class logistic classifier, we need a loss function. Categorical cross-entropy is a loss function widely used with softmax. We need to minimize this loss function in order to determine an optimal set of parameters.\n"
      ]
    },
    {
      "cell_type": "markdown",
      "metadata": {
        "id": "542afa5e-170d-43fa-aaf3-66ad812270ff"
      },
      "source": [
        "We will build a simple CNN model with two hidden layers, that uses softmax as the activation function, and categorical cross-entropy as the loss function. Let's define the architecture of our model:\n"
      ]
    },
    {
      "cell_type": "code",
      "metadata": {
        "id": "fc900aea-a95f-431b-8aea-14c61766141a"
      },
      "outputs": [],
      "source": [
        "feature_vector_shape = X_train.shape[1]\n",
        "input_shape = (feature_vector_shape,)\n",
        "num_classes = 10\n",
        "loss_function_used=CategoricalCrossentropy(from_logits=True)\n",
        "model = Sequential()\n",
        "model.add(Dense(12, input_shape=input_shape, activation='relu', kernel_initializer='he_uniform'))\n",
        "model.add(Dense(8, activation='relu', kernel_initializer='he_uniform'))\n",
        "model.add(Dense(num_classes, activation='softmax'))"
      ],
      "execution_count": 45
    },
    {
      "cell_type": "code",
      "metadata": {
        "colab": {
          "base_uri": "https://localhost:8080/"
        },
        "id": "23c7757f-9019-46fd-88a8-28210799877f",
        "outputId": "adaa05ab-e98a-4db0-aaa8-014f471af48d"
      },
      "outputs": [
        {
          "output_type": "stream",
          "name": "stderr",
          "text": [
            "/usr/local/lib/python3.11/dist-packages/keras/src/backend/tensorflow/nn.py:666: UserWarning: \"`categorical_crossentropy` received `from_logits=True`, but the `output` argument was produced by a Softmax activation and thus does not represent logits. Was this intended?\n",
            "  output, from_logits = _get_logits(\n"
          ]
        }
      ],
      "source": [
        "model.compile(loss=loss_function_used, optimizer=tf.keras.optimizers.Adam(learning_rate=0.001), metrics=['accuracy'])\n",
        "history = model.fit(X_train, y_train_enc, epochs=25, batch_size=5, verbose=0, validation_split=0.2)\n"
      ],
      "execution_count": 46
    },
    {
      "cell_type": "code",
      "metadata": {
        "colab": {
          "base_uri": "https://localhost:8080/"
        },
        "id": "9555e5bb-82d1-47e6-b096-4b87361e8b05",
        "outputId": "f180ed45-e642-4556-acdc-2273171c64c5"
      },
      "outputs": [
        {
          "output_type": "stream",
          "name": "stdout",
          "text": [
            "\u001b[1m313/313\u001b[0m \u001b[32m━━━━━━━━━━━━━━━━━━━━\u001b[0m\u001b[37m\u001b[0m \u001b[1m1s\u001b[0m 2ms/step - accuracy: 0.1160 - loss: 2.3011\n",
            "Test results - Loss: 2.3011491298675537 - Accuracy: 11.349999904632568%\n"
          ]
        }
      ],
      "source": [
        "test_results = model.evaluate(X_test, y_test_enc, verbose=1)\n",
        "print(f'Test results - Loss: {test_results[0]} - Accuracy: {test_results[1]*100}%')"
      ],
      "execution_count": 47
    },
    {
      "cell_type": "markdown",
      "metadata": {
        "id": "b776d67f-0762-46c8-bd0f-9833855e3127"
      },
      "source": [
        "## Example: Single-Digit House Number Recognition\n"
      ]
    },
    {
      "cell_type": "markdown",
      "metadata": {
        "id": "62ccd69f-4a39-4d0d-9614-bc42cb6774d8"
      },
      "source": [
        "Recognizing multi-digit text from photographs is a hard problem. In this example, we deal with a simpler sub-problem that involves using a convolutional neural network with the categorical cross-entropy loss function to build a classifier that identifies single-digit numbers from custom images.\n"
      ]
    },
    {
      "cell_type": "markdown",
      "metadata": {
        "id": "54c24cb9-24c7-4139-bd4b-a567426a30e3"
      },
      "source": [
        "First, let's load in a custom image using a URL. \\[Image from [comforthouse](https://www.comforthouse.com/floating-1-number-sign.html?utm_medium=Exinfluencer&utm_source=Exinfluencer&utm_content=000026UJ&utm_term=10006555&utm_id=NA-SkillsNetwork-Channel-SkillsNetworkCoursesIBMDeveloperSkillsNetworkML311Coursera35714171-2022-01-01).]\n"
      ]
    },
    {
      "cell_type": "code",
      "metadata": {
        "colab": {
          "base_uri": "https://localhost:8080/",
          "height": 242
        },
        "id": "0c43a576-c384-4677-9e9e-cdd51af8e1af",
        "outputId": "c5234dc2-2ef8-4549-e63f-8334f9893e4b"
      },
      "outputs": [
        {
          "output_type": "execute_result",
          "data": {
            "text/plain": [
              "<PIL.Image.Image image mode=RGB size=225x225>"
            ],
            "image/png": "[encoded data removed]",
            "image/jpeg": "[encoded data removed]"
          },
          "metadata": {},
          "execution_count": 48
        }
      ],
      "source": [
        "URL = 'https://cf-courses-data.s3.us.cloud-object-storage.appdomain.cloud/IBMDeveloperSkillsNetwork-ML311-Coursera/images/house_number_5.jpeg'\n",
        "image = Image.open(urlopen(URL)).convert('RGB')\n",
        "image"
      ],
      "execution_count": 48
    },
    {
      "cell_type": "markdown",
      "metadata": {
        "id": "509c02b7-f0e4-48ca-ab54-3522dba76cbe"
      },
      "source": [
        "Let us define a CNN architecture that is similar to one used for MNIST hand-written digit classification. We use a softmax as the activation function and categorical cross-entropy as the loss function as this is a multi-class classification problem.\n"
      ]
    },
    {
      "cell_type": "code",
      "metadata": {
        "colab": {
          "base_uri": "https://localhost:8080/"
        },
        "id": "e554617d-04ec-42df-a1c7-813f47666bbe",
        "outputId": "ac362d8b-0238-42ca-8e8a-b007d3d350f6"
      },
      "outputs": [
        {
          "output_type": "stream",
          "name": "stderr",
          "text": [
            "/usr/local/lib/python3.11/dist-packages/keras/src/layers/core/dense.py:87: UserWarning: Do not pass an `input_shape`/`input_dim` argument to a layer. When using Sequential models, prefer using an `Input(shape)` object as the first layer in the model instead.\n",
            "  super().__init__(activity_regularizer=activity_regularizer, **kwargs)\n"
          ]
        },
        {
          "output_type": "stream",
          "name": "stdout",
          "text": [
            "Epoch 1/25\n"
          ]
        },
        {
          "output_type": "stream",
          "name": "stderr",
          "text": [
            "/usr/local/lib/python3.11/dist-packages/keras/src/backend/tensorflow/nn.py:666: UserWarning: \"`categorical_crossentropy` received `from_logits=True`, but the `output` argument was produced by a Softmax activation and thus does not represent logits. Was this intended?\n",
            "  output, from_logits = _get_logits(\n"
          ]
        },
        {
          "output_type": "stream",
          "name": "stdout",
          "text": [
            "\u001b[1m9600/9600\u001b[0m \u001b[32m━━━━━━━━━━━━━━━━━━━━\u001b[0m\u001b[37m\u001b[0m \u001b[1m36s\u001b[0m 3ms/step - accuracy: 0.1098 - loss: 2.3018 - val_accuracy: 0.1060 - val_loss: 2.3023\n",
            "Epoch 2/25\n",
            "\u001b[1m9600/9600\u001b[0m \u001b[32m━━━━━━━━━━━━━━━━━━━━\u001b[0m\u001b[37m\u001b[0m \u001b[1m36s\u001b[0m 3ms/step - accuracy: 0.1165 - loss: 2.3010 - val_accuracy: 0.1060 - val_loss: 2.3020\n",
            "Epoch 3/25\n",
            "\u001b[1m6126/9600\u001b[0m \u001b[32m━━━━━━━━━━━━\u001b[0m\u001b[37m━━━━━━━━\u001b[0m \u001b[1m8s\u001b[0m 2ms/step - accuracy: 0.1099 - loss: 2.3022"
          ]
        }
      ],
      "source": [
        "feature_vector_shape,input_shape = 784,784\n",
        "num_classes = 10\n",
        "loss_function_used = CategoricalCrossentropy(from_logits=True)\n",
        "model = Sequential()\n",
        "model.add(Dense(12, input_shape=(input_shape,), activation='relu', kernel_initializer='he_uniform'))\n",
        "model.add(Dense(8, activation='relu', kernel_initializer='he_uniform'))\n",
        "model.add(Dense(num_classes, activation='softmax'))\n",
        "\n",
        "model.compile(loss=loss_function_used, optimizer=tf.keras.optimizers.Adam(learning_rate=0.001), metrics=['accuracy'])\n",
        "history = model.fit(X_train, y_train_enc, epochs=25, batch_size=5, verbose=1, validation_split=0.2)"
      ],
      "execution_count": null
    },
    {
      "cell_type": "markdown",
      "metadata": {
        "id": "54460ecb-ba7c-4c41-b5bd-492497d7d5d7"
      },
      "source": [
        "We must now pre-process our raw input images to be grayscale and 28x28 in size.\n"
      ]
    },
    {
      "cell_type": "code",
      "metadata": {
        "id": "b34911b3-1fa6-44d5-b017-66c2dd192a74"
      },
      "outputs": [],
      "source": [
        "img_rows, img_cols = 28, 28\n",
        "img = Image.fromarray(np.uint8(image)).convert('L')\n",
        "img_gray = img.resize((img_rows, img_cols), Image.ANTIALIAS)\n",
        "img_gray"
      ],
      "execution_count": null
    },
    {
      "cell_type": "markdown",
      "metadata": {
        "id": "4ae0dce7-24cf-4d71-8381-b0c1b87c8982"
      },
      "source": [
        "We will now convert the image to an array, and reshape it such that it has a dimension of (1, 784).\n"
      ]
    },
    {
      "cell_type": "code",
      "metadata": {
        "id": "d590d2a9-970e-49bb-9fcf-79792d7c2045"
      },
      "outputs": [],
      "source": [
        "arr = np.array(img_gray)\n",
        "arr = arr.reshape((img_cols*img_rows))\n",
        "arr = np.expand_dims(arr, axis=0)"
      ],
      "execution_count": null
    },
    {
      "cell_type": "markdown",
      "metadata": {
        "id": "d77175bc-1c27-48f1-8d58-5b014c143de6"
      },
      "source": [
        "Finally, we will feed the array as an input to our model, and use the argmax function to determine the most likely digit label.\n"
      ]
    },
    {
      "cell_type": "code",
      "metadata": {
        "id": "4f5d66b1-b200-4312-9321-475399d0011d"
      },
      "outputs": [],
      "source": [
        "prediction = model.predict(arr)\n",
        "np.argmax(prediction)"
      ],
      "execution_count": null
    },
    {
      "cell_type": "markdown",
      "metadata": {
        "id": "6317e5da-9ca4-48c1-b2d4-01256f55b8fb"
      },
      "source": [
        "We got it right! You are free to experiment with different custom images by simply changing the URL.\n"
      ]
    },
    {
      "cell_type": "markdown",
      "metadata": {
        "id": "95698317-9f1f-4bb4-98b6-082a4200ad62"
      },
      "source": [
        "# Exercises\n"
      ]
    },
    {
      "cell_type": "markdown",
      "metadata": {
        "id": "5d3cd68b-2886-4c3d-ac81-da5169f4bfb2"
      },
      "source": [
        "For these exercises, we will be using the Fashion-MNIST dataset. It consists of 60,000 28x28 grayscale training images and 10,000 test images for 10 different categories, listed below:\n"
      ]
    },
    {
      "cell_type": "markdown",
      "metadata": {
        "id": "9cd389f0-994c-4f69-a87e-977491cbb8c5"
      },
      "source": [
        "0.  T-shirt\n",
        "1.  Trouser\n",
        "2.  Pullover\n",
        "3.  Dress\n",
        "4.  Coat\n",
        "5.  Sandal\n",
        "6.  Shirt\n",
        "7.  Sneaker\n",
        "8.  Bag\n",
        "9.  Ankle boot\n"
      ]
    },
    {
      "cell_type": "markdown",
      "metadata": {
        "id": "a3be35bd-1671-47d4-a19d-833573bfaad6"
      },
      "source": [
        "### Exercise 1 - Loading and plotting the images\n"
      ]
    },
    {
      "cell_type": "markdown",
      "metadata": {
        "id": "ccebc39a-6ab8-49c2-9dce-357c3186659e"
      },
      "source": [
        "Similar to the MNIST hand-written digits dataset, Fashion-MNIST is available for loading through Keras. Load the dataset using Keras in a similar manner. Plot some sample images from the training set.\n"
      ]
    },
    {
      "cell_type": "code",
      "metadata": {
        "id": "19dc8c43-c76e-4d51-b2a4-c1f3b244db3c"
      },
      "outputs": [],
      "source": [
        "# Enter your solution here"
      ],
      "execution_count": null
    },
    {
      "cell_type": "markdown",
      "metadata": {
        "id": "0c79e8d2-3a93-4dff-a9c8-1515a402cb1e"
      },
      "source": [
        "<details>\n",
        "    <summary>Click here for Solution</summary>\n",
        "\n",
        "```python\n",
        "(X_train, y_train), (X_test, y_test) = fashion_mnist.load_data()\n",
        "\n",
        "\n",
        "plt.rcParams['figure.figsize'] = (6,6)\n",
        "\n",
        "for i in range(4):\n",
        "    plt.subplot(2,2,i+1)\n",
        "    num = random.randint(0, len(X_train))\n",
        "    plt.imshow(X_train[num], cmap='gray', interpolation='none')\n",
        "    plt.title(\"class {}\".format(y_train[num]))\n",
        "    \n",
        "plt.tight_layout()\n",
        "```\n",
        "\n",
        "</details>\n"
      ]
    },
    {
      "cell_type": "markdown",
      "metadata": {
        "id": "b7e5c5e2-41ed-436f-b65b-fdad4f4f6b23"
      },
      "source": [
        "### Exercise 2 - Preparing the data\n"
      ]
    },
    {
      "cell_type": "markdown",
      "metadata": {
        "id": "0dae1df4-c266-4785-885d-f1a2c7fa0e99"
      },
      "source": [
        "Convert all grayscale images of size 28x28 to a 784-length vector. Change integers to 32-bit floating point numbers and normalize the input to be in the range \\[0, 1], rather than \\[0-255].\n"
      ]
    },
    {
      "cell_type": "code",
      "metadata": {
        "id": "d7f36828-c344-4404-9dc9-aa16e4cc8cd6"
      },
      "outputs": [],
      "source": [
        "# Enter your solution here\n"
      ],
      "execution_count": null
    },
    {
      "cell_type": "markdown",
      "metadata": {
        "id": "64a35876-00a9-4219-b359-13cdd46fa17e"
      },
      "source": [
        "<details>\n",
        "    <summary>Click here for Solution</summary>\n",
        "\n",
        "```python\n",
        "X_train = X_train.reshape(X_train.shape[0], X_train.shape[1]* X_train.shape[2])\n",
        "X_test = X_test.reshape(X_test.shape[0], X_test.shape[1] * X_test.shape[2])\n",
        "\n",
        "print(X_train.shape)\n",
        "print(X_test.shape)\n",
        "\n",
        "X_train = X_train.astype('float32')\n",
        "X_test = X_test.astype('float32')\n",
        "\n",
        "X_train /= 255\n",
        "X_test /= 255\n",
        "```\n",
        "\n",
        "</details>\n"
      ]
    },
    {
      "cell_type": "markdown",
      "metadata": {
        "id": "71a2420a-3a9d-4d8f-a37a-b76eba2dd88b"
      },
      "source": [
        "### Exercise 3 - One-hot encoding\n"
      ]
    },
    {
      "cell_type": "markdown",
      "metadata": {
        "id": "3cb27b00-e95c-4879-b9fd-f18e1bde44d0"
      },
      "source": [
        "Create one-hot encoded representations of the target variable using the `OneHotEncoder()` function from sklearn.\n"
      ]
    },
    {
      "cell_type": "code",
      "metadata": {
        "id": "7e1965e5-4c46-4fa9-9904-cfc730199cf5"
      },
      "outputs": [],
      "source": [
        "# Enter your solution here\n"
      ],
      "execution_count": null
    },
    {
      "cell_type": "markdown",
      "metadata": {
        "id": "df3baf9c-02a2-4135-bbab-7fd197700496"
      },
      "source": [
        "<details>\n",
        "    <summary>Click here for Solution</summary>\n",
        "\n",
        "```python\n",
        "enc = OneHotEncoder(sparse=False)\n",
        "enc.fit(y_train.reshape(-1, 1))\n",
        "print(enc.categories_)\n",
        "y_train_enc = enc.transform(y_train.reshape(-1,1))\n",
        "y_test_enc = enc.transform(y_test.reshape(-1,1))\n",
        "```\n",
        "\n",
        "</details>\n"
      ]
    },
    {
      "cell_type": "markdown",
      "metadata": {
        "id": "95af2a47-31a6-4c72-81d5-25aeba0bd7bd"
      },
      "source": [
        "### Exercise 4 - Build model architecture\n"
      ]
    },
    {
      "cell_type": "markdown",
      "metadata": {
        "id": "2cfe03d1-b1ba-4e64-952a-2dd3ed114751"
      },
      "source": [
        "Build a CNN model with 2 hidden layers, that uses softmax as the activation function, and categorical cross-entropy as the loss function.\n"
      ]
    },
    {
      "cell_type": "code",
      "metadata": {
        "id": "a5286487-b0b2-4081-a850-7fd42416d692"
      },
      "outputs": [],
      "source": [
        "# Enter your solution here"
      ],
      "execution_count": null
    },
    {
      "cell_type": "markdown",
      "metadata": {
        "id": "bc2b859e-9337-449f-9622-4a54af989fb1"
      },
      "source": [
        "<details>\n",
        "    <summary>Click here for Solution</summary>\n",
        "\n",
        "```python\n",
        "feature_vector_shape = X_train.shape[1]\n",
        "input_shape = (feature_vector_shape,)\n",
        "num_classes = 10\n",
        "loss_function_used = CategoricalCrossentropy(from_logits=True)\n",
        "\n",
        "model = Sequential()\n",
        "model.add(Dense(12, input_shape=input_shape, activation='relu', kernel_initializer='he_uniform'))\n",
        "model.add(Dense(8, activation='relu', kernel_initializer='he_uniform'))\n",
        "model.add(Dense(num_classes, activation='softmax'))\n",
        "\n",
        "\n",
        "model.compile(loss=loss_function_used, optimizer=tf.keras.optimizers.Adam(lr=0.001), metrics=['accuracy'])\n",
        "history = model.fit(X_train, y_train_enc, epochs=25, batch_size=5, verbose=1, validation_split=0.2)\n",
        "\n",
        "test_results = model.evaluate(X_test, y_test_enc, verbose=1)\n",
        "print(f'Test results - Loss: {test_results[0]} - Accuracy: {test_results[1]*100}%')\n",
        "\n",
        "\n",
        "```\n",
        "\n",
        "</details>\n"
      ]
    },
    {
      "cell_type": "markdown",
      "metadata": {
        "id": "6373cc45-fed7-490c-970c-f3e2b61500d1"
      },
      "source": [
        "### (Optional) Exercise 5 - Sparse Categorical Cross Entropy\n"
      ]
    },
    {
      "cell_type": "markdown",
      "metadata": {
        "id": "1734cfa7-4a72-46bb-99cb-09a895cacc40"
      },
      "source": [
        "We saw that when using categorical cross-entropy, the ground truth labels need to be one-hot encoded. Keras provides another loss function called sparse cross-entropy where we can leave the labels as integers.\n",
        "\n",
        "Build a CNN model with two hidden layers, that uses softmax as the activation function, and sparse categorical cross-entropy as the loss function. Make sure to use the non-one-hot encoded ground-truth labels.  \n"
      ]
    },
    {
      "cell_type": "code",
      "metadata": {
        "id": "52636a02-7ec4-4561-9ed8-d32f03d0884e"
      },
      "outputs": [],
      "source": [
        "# Enter your solution here\n"
      ],
      "execution_count": null
    },
    {
      "cell_type": "markdown",
      "metadata": {
        "id": "b98ad9b5-98db-4ea5-860b-465c22a8e290"
      },
      "source": [
        "<details>\n",
        "    <summary>Click here for Solution</summary>\n",
        "\n",
        "```python\n",
        "feature_vector_shape = X_train.shape[1]\n",
        "input_shape = (feature_vector_shape,)\n",
        "num_classes = 10\n",
        "loss_function_used = SparseCategoricalCrossentropy()\n",
        "\n",
        "model = Sequential()\n",
        "model.add(Dense(12, input_shape=input_shape, activation='relu', kernel_initializer='he_uniform'))\n",
        "model.add(Dense(8, activation='relu', kernel_initializer='he_uniform'))\n",
        "model.add(Dense(num_classes, activation='softmax'))\n",
        "\n",
        "\n",
        "model.compile(loss=loss_function_used, optimizer=tf.keras.optimizers.Adam(lr=0.001), metrics=['accuracy'])\n",
        "history = model.fit(X_train, y_train, epochs=25, batch_size=5, verbose=1, validation_split=0.2)\n",
        "\n",
        "test_results = model.evaluate(X_test, y_test, verbose=1)\n",
        "print(f'Test results - Loss: {test_results[0]} - Accuracy: {test_results[1]*100}%')\n",
        "\n",
        "```\n",
        "\n",
        "</details>\n"
      ]
    },
    {
      "cell_type": "markdown",
      "metadata": {
        "id": "c7717e1e-52db-4dfe-89a3-ce0f97214566"
      },
      "source": [
        "## References\n"
      ]
    },
    {
      "cell_type": "markdown",
      "metadata": {
        "id": "1b03ba73-d7bb-4eef-95af-7cd6903a37dd"
      },
      "source": [
        "Bishop, C., 2006. Pattern Recognition and Machine Learning.\n"
      ]
    },
    {
      "cell_type": "markdown",
      "metadata": {
        "id": "925a7a6e-bd57-4b31-a4b9-f0e67d302356"
      },
      "source": [
        "## Authors\n"
      ]
    },
    {
      "cell_type": "markdown",
      "metadata": {
        "id": "8849f23c-3735-4c79-993f-ec4c8e0a140b"
      },
      "source": [
        "[Kopal Garg](https://www.linkedin.com/in/gargkopal/?utm_medium=Exinfluencer&utm_source=Exinfluencer&utm_content=000026UJ&utm_term=10006555&utm_id=NA-SkillsNetwork-Channel-SkillsNetworkCoursesIBMDeveloperSkillsNetworkML311Coursera35714171-2022-01-01)\n"
      ]
    },
    {
      "cell_type": "markdown",
      "metadata": {
        "id": "60c8a3ed-4d28-4773-9cb2-166ecf95b175"
      },
      "source": [
        "## Change Log\n"
      ]
    },
    {
      "cell_type": "markdown",
      "metadata": {
        "id": "086a5fc8-6113-424c-ab60-bd96b5dd199b"
      },
      "source": [
        "|Date (YYYY-MM-DD)|Version|Changed By|Change Description|\n",
        "|-|-|-|-|\n",
        "|2022-05-20|0.1|Kopal Garg|Create Lab|\n",
        "|2022-09-06|0.1|Steve Hord|QA pass edits|\n"
      ]
    },
    {
      "cell_type": "markdown",
      "metadata": {
        "id": "57014375-4704-496e-9c57-28447c692a02"
      },
      "source": [
        "Copyright © 2022 IBM Corporation. All rights reserved.\n"
      ]
    }
  ],
  "metadata": {
    "kernelspec": {
      "display_name": "Python",
      "language": "python",
      "name": "conda-env-python-py"
    },
    "language_info": {
      "name": "python",
      "version": "3.7.12",
      "mimetype": "text/x-python",
      "codemirror_mode": {
        "name": "ipython",
        "version": 3
      },
      "pygments_lexer": "ipython3",
      "nbconvert_exporter": "python",
      "file_extension": ".py"
    },
    "prev_pub_hash": "7c554d395fcc33239e85a68a8ac8696e4a54ba7070f2eb51e600e9d7ce57417d",
    "colab": {
      "provenance": [],
      "include_colab_link": true
    }
  },
  "nbformat": 4,
  "nbformat_minor": 0
}